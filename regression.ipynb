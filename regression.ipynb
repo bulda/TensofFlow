{
  "nbformat": 4,
  "nbformat_minor": 0,
  "metadata": {
    "colab": {
      "name": "regression.ipynb",
      "provenance": [],
      "collapsed_sections": [],
      "include_colab_link": true
    },
    "kernelspec": {
      "name": "python3",
      "display_name": "Python 3"
    }
  },
  "cells": [
    {
      "cell_type": "markdown",
      "metadata": {
        "id": "view-in-github",
        "colab_type": "text"
      },
      "source": [
        "<a href=\"https://colab.research.google.com/github/bulda/TensofFlow/blob/master/regression.ipynb\" target=\"_parent\"><img src=\"https://colab.research.google.com/assets/colab-badge.svg\" alt=\"Open In Colab\"/></a>"
      ]
    },
    {
      "cell_type": "code",
      "metadata": {
        "id": "AKDAqS8etG-s",
        "colab_type": "code",
        "colab": {
          "base_uri": "https://localhost:8080/",
          "height": 286
        },
        "outputId": "a6edb56b-40b9-48bf-cca7-3fc8e81eb7c9"
      },
      "source": [
        "import tensorflow as tf\n",
        "import numpy as np\n",
        "import matplotlib.pyplot as plt\n",
        "\n",
        "#learning_rate = 0.01\n",
        "training_epochs = 100\n",
        "\n",
        "x_train = np.linspace(-1,1,101)\n",
        "y_train = (4 * x_train**2 + 1.5*x_train + np.random.randn(*x_train.shape)*0.33)\n",
        "plt.scatter(x_train, y_train)\n",
        "\n",
        "X = tf.placeholder(tf.float32)\n",
        "Y = tf.placeholder(tf.float32)\n",
        "learning_rate = tf.placeholder(tf.float32,shape=())\n",
        "\n",
        "def model(X,w):\n",
        "    mul2 = tf.multiply(X**2,w[0])\n",
        "    mul1 = tf.multiply(X,w[1])\n",
        "    mul = tf.add(mul2,mul1)\n",
        "    return tf.add(mul,w[2])\n",
        "\n",
        "w = tf.Variable([0.0,0.0,0.0], name = \"weights\")\n",
        "#b = tf.Variable(0.0, name = \"bias\")\n",
        "\n",
        "y_ = model(X,w)\n",
        "cost = tf.square(Y - y_)\n",
        "cost_ = []\n",
        "train_op = tf.train.GradientDescentOptimizer(learning_rate).minimize(cost)\n",
        "\n",
        "with tf.Session() as sess:\n",
        "    init = tf.global_variables_initializer()\n",
        "    sess.run(init)\n",
        "    \n",
        "    for epoch in range(training_epochs):\n",
        "        #print(f'------ epoch {epoch} --------')\n",
        "        for (x,y) in zip(x_train,y_train):\n",
        "            sess.run(train_op, feed_dict = {X:x, Y:y, learning_rate: 0.005})\n",
        "            #print(sess.run(cost,feed_dict = {X:x, Y:y, learning_rate: 0.005}))\n",
        "            \n",
        "            \n",
        "            \n",
        "    w_val = sess.run(w)\n",
        "    #b_val = sess.run(b)\n",
        "\n",
        "print(f'w_val = {w_val} ')\n",
        "\n",
        "y_learned = w_val[0]*x_train**2+x_train*w_val[1] + w_val[2]\n",
        "\n",
        "plt.plot(x_train, y_learned,'r')\n",
        "plt.show()"
      ],
      "execution_count": 2,
      "outputs": [
        {
          "output_type": "stream",
          "text": [
            "w_val = [3.941323   1.437251   0.02086091] \n"
          ],
          "name": "stdout"
        },
        {
          "output_type": "display_data",
          "data": {
            "image/png": "[encoded data removed]",
            "text/plain": [
              "<Figure size 432x288 with 1 Axes>"
            ]
          },
          "metadata": {
            "tags": []
          }
        }
      ]
    },
    {
      "cell_type": "code",
      "metadata": {
        "id": "tSep30x8tV71",
        "colab_type": "code",
        "colab": {
          "base_uri": "https://localhost:8080/",
          "height": 303
        },
        "outputId": "b1638588-d535-41b2-b46f-c04a4217c609"
      },
      "source": [
        "import tensorflow as tf\n",
        "import numpy as np\n",
        "import matplotlib.pyplot as plt\n",
        "\n",
        "learning_rate = 0.001\n",
        "training_epochs = 100\n",
        "\n",
        "n_pow = 6\n",
        "trY_coef = np.abs(np.random.randn(n_pow)*10/2)\n",
        "print(f'{trY_coef}')\n",
        "trX = np.linspace(-1,1,101)\n",
        "trY = 0\n",
        "for i in range(n_pow):\n",
        "    trY += trY_coef[i]*np.power(trX, i)\n",
        "trY += np.random.randn(*trX.shape) * 1.2\n",
        "\n",
        "plt.scatter(trX, trY)\n",
        "\n",
        "X = tf.placeholder(tf.float32)\n",
        "Y = tf.placeholder(tf.float32)\n",
        "\n",
        "def model(X,w):\n",
        "    terms = []\n",
        "    for i in range(n_pow):\n",
        "        term = tf.multiply(w[i], tf.pow(X,i))\n",
        "        terms.append(term)\n",
        "    return tf.add_n(terms)\n",
        "\n",
        "w = tf.Variable([0.0]*n_pow, name = \"weights\")\n",
        "y_ = model(X,w)\n",
        "cost = tf.square(Y - y_)\n",
        "\n",
        "train_op = tf.train.GradientDescentOptimizer(learning_rate).minimize(cost)\n",
        "\n",
        "with tf.Session() as sess:\n",
        "    init = tf.global_variables_initializer()\n",
        "    sess.run(init)\n",
        "    \n",
        "    for epoch in range(training_epochs):\n",
        "        for (x,y) in zip(trX,trY):\n",
        "            sess.run(train_op, feed_dict = {X:x, Y:y})\n",
        "            \n",
        "    w_val = sess.run(w)\n",
        "    #b_val = sess.run(b)\n",
        "\n",
        "print(f'w_val = {w_val} ')\n",
        "\n",
        "trY_ = 0\n",
        "for i in range(n_pow):\n",
        "    trY_ += w_val[i]*np.power(trX,i)\n",
        "    \n",
        "plt.plot(trX, trY_,'r')\n",
        "plt.show()"
      ],
      "execution_count": 4,
      "outputs": [
        {
          "output_type": "stream",
          "text": [
            "[ 9.23351927  0.85042664  3.42783161  0.80542752  5.75287354 10.90447101]\n",
            "w_val = [9.083986  1.7659185 5.124273  4.115159  4.0615845 4.4503694] \n"
          ],
          "name": "stdout"
        },
        {
          "output_type": "display_data",
          "data": {
            "image/png": "[encoded data removed]",
            "text/plain": [
              "<Figure size 432x288 with 1 Axes>"
            ]
          },
          "metadata": {
            "tags": []
          }
        }
      ]
    },
    {
      "cell_type": "code",
      "metadata": {
        "id": "DyizZ-6WuLL0",
        "colab_type": "code",
        "colab": {
          "base_uri": "https://localhost:8080/",
          "height": 320
        },
        "outputId": "a8cb21f9-c811-4e2f-e3a4-e1b4869a865e"
      },
      "source": [
        "import tensorflow as tf\n",
        "import matplotlib.pyplot as plt\n",
        "import numpy as np\n",
        "from sklearn.model_selection import train_test_split\n",
        "\n",
        "learning_rate = 0.001\n",
        "training_epochs = 1000\n",
        "reg_lambda = 0.\n",
        "\n",
        "x_data = np.linspace(-1,1,100)\n",
        "\n",
        "n_pow = 9\n",
        "y_data_coefs = [0.]*n_pow\n",
        "y_data_coefs[2] = 1\n",
        "y_data = 0\n",
        "\n",
        "for i in range(n_pow):\n",
        "  y_data += y_data_coefs[i]*np.power(x_data,i)\n",
        "\n",
        "y_data += np.random.randn(*x_data.shape)*0.4\n",
        "\n",
        "(x_train, x_test, y_train, y_test) = sklearn.model_selection.train_test_split(x_data, y_data, test_size = 0.33)\n",
        "\n",
        "\n",
        "plt.scatter(x_data, y_data)\n",
        "\n",
        "X = tf.placeholder(tf.float32)\n",
        "Y = tf.placeholder(tf.float32)\n",
        "\n",
        "def model(X,w):\n",
        "  terms = []\n",
        "  for i in range(n_pow):\n",
        "    term = tf.multiply(w[i], tf.pow(X, i))\n",
        "    terms.append(term)\n",
        "  return tf.add_n(terms)\n",
        "\n",
        "w = tf.Variable([0.]*n_pow, name = \"parameters\")\n",
        "y_model = model(X,w)\n",
        "cost = tf.math.divide(tf.add(tf.reduce_sum(tf.square(Y - y_model)), tf.multiply(reg_lambda,tf.reduce_sum(tf.square(w)))), 2*x_train.size)\n",
        "\n",
        "train_op = tf.train.GradientDescentOptimizer(learning_rate).minimize(cost)\n",
        "\n",
        "with tf.Session() as sess:\n",
        "  init = tf.global_variables_initializer()\n",
        "  sess.run(init)\n",
        "\n",
        "  for reg_lambda in np.linspace(0,1,100):\n",
        "    for epoch in range(training_epochs):\n",
        "      sess.run(train_op, feed_dict={X: x_train, Y: y_train})\n",
        "    final_cost = sess.run(cost, feed_dict={X: x_test, Y: y_test})\n",
        "  print(f'final cost = {final_cost}')\n",
        "\n",
        "  w_val = sess.run(w)\n",
        "\n",
        "  print(f'w_val = {w_val} ')\n",
        "\n",
        "  trY_ = 0\n",
        "  for i in range(n_pow):\n",
        "    trY_ += w_val[i]*np.power(x_data,i)\n",
        "  \n",
        "  plt.plot(x_data, trY_,'r')\n",
        "  plt.show()\n"
      ],
      "execution_count": 22,
      "outputs": [
        {
          "output_type": "stream",
          "text": [
            "final cost = 0.07079830765724182\n",
            "w_val = [ 0.21972395  0.3708468   0.19118008 -0.07233467  0.31691653 -0.21814205\n",
            "  0.2890345  -0.31350884  0.22835971] \n"
          ],
          "name": "stdout"
        },
        {
          "output_type": "display_data",
          "data": {
            "image/png": "[encoded data removed]",
            "text/plain": [
              "<Figure size 432x288 with 1 Axes>"
            ]
          },
          "metadata": {
            "tags": []
          }
        }
      ]
    }
  ]
}