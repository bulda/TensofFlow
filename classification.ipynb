{
  "nbformat": 4,
  "nbformat_minor": 0,
  "metadata": {
    "colab": {
      "name": "classification.ipynb",
      "provenance": [],
      "collapsed_sections": [],
      "include_colab_link": true
    },
    "kernelspec": {
      "name": "python3",
      "display_name": "Python 3"
    }
  },
  "cells": [
    {
      "cell_type": "markdown",
      "metadata": {
        "id": "view-in-github",
        "colab_type": "text"
      },
      "source": [
        "<a href=\"https://colab.research.google.com/github/bulda/TensofFlow/blob/master/classification.ipynb\" target=\"_parent\"><img src=\"https://colab.research.google.com/assets/colab-badge.svg\" alt=\"Open In Colab\"/></a>"
      ]
    },
    {
      "cell_type": "code",
      "metadata": {
        "id": "93vb3ItbGz5S",
        "colab_type": "code",
        "colab": {
          "base_uri": "https://localhost:8080/",
          "height": 490
        },
        "outputId": "3a440586-81ec-4b97-a77c-66b400e22b96"
      },
      "source": [
        "import tensorflow as tf\n",
        "import numpy as np\n",
        "import matplotlib.pyplot as plt\n",
        "\n",
        "x_label0 = np.random.normal(5,1,10)\n",
        "x_label1 = np.random.normal(2,1,10)\n",
        "xs = np.append(x_label0,x_label1)\n",
        "labels = [0.]*len(x_label0) +[1.]*len(x_label1)\n",
        "\n",
        "plt.scatter(xs, labels)\n",
        "\n",
        "learning_rate = 0.001\n",
        "traiming_epochs = 1001\n",
        "\n",
        "X = tf.placeholder(tf.float32)\n",
        "Y = tf.placeholder(tf.float32)\n",
        "\n",
        "def model(X,w):\n",
        "  return tf.add(tf.multiply(w[1], tf.pow(X,1)), tf.multiply(w[0], tf.pow(X,0)))\n",
        "\n",
        "w = tf.Variable([0., 0.], name = \"param\")\n",
        "y_ = model(X,w)\n",
        "\n",
        "cost = tf.reduce_sum(tf.square(Y - y_))\n",
        "\n",
        "train_op = tf.train.GradientDescentOptimizer(learning_rate).minimize(cost)\n",
        "\n",
        "with tf.Session() as sess:\n",
        "  init = tf.global_variables_initializer()\n",
        "  sess.run(init)\n",
        "\n",
        "  for epoch in range(traiming_epochs):\n",
        "    sess.run(train_op, feed_dict={X: xs, Y: labels})\n",
        "    cost_ = sess.run(cost, feed_dict={X: xs, Y: labels})\n",
        "    if epoch % 100 == 0:\n",
        "      print(f' epoch = {epoch} cost = {cost_}')\n",
        "  \n",
        "  tmp = tf.cast(tf.greater(y_, 0.5), tf.float32)\n",
        "  correct = tf.equal(Y, tmp)\n",
        "  #print(f'{correct}')\n",
        "  accuracy_tmp = tf.reduce_mean(tf.cast(correct, tf.float32))\n",
        "  accuracy = sess.run(accuracy_tmp, feed_dict={X: xs, Y: labels})\n",
        "  print(f'accuracy = {accuracy}. correct = {correct}')\n",
        "  \n",
        "  w_val = sess.run(w)\n",
        "  print(f'{w.eval()}')\n",
        "\n",
        "all_xs = np.linspace(0,10,100)\n",
        "plt.plot(all_xs, all_xs*w_val[1]+w_val[0])\n",
        "plt.show()\n",
        "\n"
      ],
      "execution_count": 32,
      "outputs": [
        {
          "output_type": "stream",
          "text": [
            " epoch = 0 cost = 8.619464874267578\n",
            " epoch = 100 cost = 2.7974672317504883\n",
            " epoch = 200 cost = 1.5853883028030396\n",
            " epoch = 300 cost = 1.3259456157684326\n",
            " epoch = 400 cost = 1.2704124450683594\n",
            " epoch = 500 cost = 1.2585258483886719\n",
            " epoch = 600 cost = 1.2559814453125\n",
            " epoch = 700 cost = 1.255436897277832\n",
            " epoch = 800 cost = 1.2553203105926514\n",
            " epoch = 900 cost = 1.2552953958511353\n",
            " epoch = 1000 cost = 1.2552900314331055\n",
            "accuracy = 0.949999988079071. correct = Tensor(\"Equal_14:0\", dtype=bool)\n",
            "[ 1.360122   -0.24191399]\n"
          ],
          "name": "stdout"
        },
        {
          "output_type": "display_data",
          "data": {
            "image/png": "[encoded data removed]",
            "text/plain": [
              "<Figure size 432x288 with 1 Axes>"
            ]
          },
          "metadata": {
            "tags": []
          }
        }
      ]
    }
  ]
}